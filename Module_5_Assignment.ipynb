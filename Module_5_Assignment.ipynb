{
  "nbformat": 4,
  "nbformat_minor": 0,
  "metadata": {
    "colab": {
      "provenance": []
    },
    "kernelspec": {
      "name": "python3",
      "display_name": "Python 3"
    },
    "language_info": {
      "name": "python"
    }
  },
  "cells": [
    {
      "cell_type": "markdown",
      "source": [
        "Python OOPs Questions"
      ],
      "metadata": {
        "id": "eU_CFqnyFVSC"
      }
    },
    {
      "cell_type": "markdown",
      "source": [
        "1.) What is Object-Oriented Programming (OOP)?\n",
        "\n",
        "OOPs is a programming paradigm based on the concept of \"objects\",which are instances of classes.Objects encapsulate data(attributes) and behaviours(methods) that operate on that data.OOP is widely used in software development because it promotes reusability,modularity,and flexibility."
      ],
      "metadata": {
        "id": "JbBi3VG5FcMA"
      }
    },
    {
      "cell_type": "markdown",
      "source": [
        "2.) What is a class in OOP?\n",
        "\n",
        "A class is a blueprint or a template for creating objects. It defines the structure and behaviours(properties and methods) that the objects created from it will have."
      ],
      "metadata": {
        "id": "3Mn1bhl7GQ5f"
      }
    },
    {
      "cell_type": "markdown",
      "source": [
        "3.) What is an object in OOP?\n",
        "\n",
        "An object is an instance of a class. It represents a specific \"thing\" that has attributes (data or properties) and behaviours (methods or actions).Objects are the fundamental building blocks of OOP,allowing developers to model real-world entities and interactions in code."
      ],
      "metadata": {
        "id": "nrV5D35DGxLE"
      }
    },
    {
      "cell_type": "markdown",
      "source": [
        "4.) What is the difference between abstraction and encapsulation?\n",
        "\n",
        "Abstraction hides implementation details and shows only essential features whereas encapsulation hides data and internal details by restricting access."
      ],
      "metadata": {
        "id": "jJWv-vaQHlnj"
      }
    },
    {
      "cell_type": "markdown",
      "source": [
        "5.) What are dunder methods in Python?\n",
        "\n",
        "Dunder methods (short for \"double underscore methods\") in Python are special methods with names surrounded by double underscores(e.g.,__init__,__str__). These methods enable the customization and behaviour of built-in operations for objects.They are also called magic methods."
      ],
      "metadata": {
        "id": "4W62890wIKwB"
      }
    },
    {
      "cell_type": "markdown",
      "source": [
        "6.) Explain the concept of inheritance in OOP.\n",
        "\n",
        "Inheritance in OOPs is a mechanism that allows one class(called the child class or subclass) to derive or inherit properties and behaviours(attributes and methods)from another class(called the parent or superclass).It promotes code reuse,extensibility,and hierarchical relantionships between classes."
      ],
      "metadata": {
        "id": "F49_kvPOJCYd"
      }
    },
    {
      "cell_type": "markdown",
      "source": [
        "7.) What is polymorphism in OOP?\n",
        "\n",
        "Polymorphism in OOPs is the ability of different objects to be treated as instances of the same class through a shared interface. It allows objects of different classes to respond to the same or operation in their own unique way."
      ],
      "metadata": {
        "id": "dqm775q3JyRl"
      }
    },
    {
      "cell_type": "markdown",
      "source": [
        "8.) How is encapsulation achieved in Python?\n",
        "\n",
        "Encapsulation in Python is achieved by restricting direct access to class attributes ad methods,using public,protected,and private members:\n",
        "1.) Public:Accessible from anywhere.\n",
        "2.) Protected:Meant for internal use but can be accessed outside.\n",
        "3.) Private:Accessible only within the class.\n",
        "Encapsulation protects data,ensures controlled access,and improves modularity."
      ],
      "metadata": {
        "id": "IbsN1GjcKWaN"
      }
    },
    {
      "cell_type": "markdown",
      "source": [
        "9.) What is a constructor in Python?\n",
        "\n",
        "A constructor in Python is a special method __init__ used to initialize an object's attributes when it's created. It's automatcally called when you create a new instance of a class.The constructor helps set up the initial state of an object."
      ],
      "metadata": {
        "id": "QpImLKw3YPjb"
      }
    },
    {
      "cell_type": "markdown",
      "source": [
        "10.) What are class and static methods in Python?\n",
        "\n",
        "Class method works with the class, takes cls as the first parameter whereas static method does not work with the class or instance,no special first parameter."
      ],
      "metadata": {
        "id": "C7Ys5qrdY5tS"
      }
    },
    {
      "cell_type": "markdown",
      "source": [
        "11.) What is method overloading in Python?\n",
        "\n",
        "Method overloading in Python refers to the ability to define multiple methods with the same name but different parameters(e.g.,different numbers or types of arguments).However, Python does not natively support method overloading like some other languages(e.g.,Java or C++).Instead, Python achieves similar behaviour through default arguments or variable-length arguments."
      ],
      "metadata": {
        "id": "BUHnh0CgZfwl"
      }
    },
    {
      "cell_type": "markdown",
      "source": [
        "12.) What is method overriding in OOP?\n",
        "\n",
        "Method overriding in OOP occurs when a subclass provides a specific implementation of a method that is already defined in its superclass. The method in the subclass overrides the version in the parent class,allowing for custom behaviour in the subclass while maintaining the same method signature."
      ],
      "metadata": {
        "id": "EPhaCb-Va1_4"
      }
    },
    {
      "cell_type": "markdown",
      "source": [
        "13.) What is a property decorator in Python?\n",
        "\n",
        "The property decorator in Python allows you to define a method that is accesed like an attribute.It lets you control the access to and modification of attributes using getter and setter methods,making your class more flexible and safer."
      ],
      "metadata": {
        "id": "HhJb7O_WcCo_"
      }
    },
    {
      "cell_type": "markdown",
      "source": [
        "14.) Why is polymorphism important in OOP?\n",
        "\n",
        "It is important in OOP because it provides flexibility,reusability,extensibility,and maintainability.It allows different objects to be treated through a common interface,making your code more adaptable and easier to maintain."
      ],
      "metadata": {
        "id": "3S5icZnecnAr"
      }
    },
    {
      "cell_type": "markdown",
      "source": [
        "15.) What is an abstract class in Python?\n",
        "\n",
        "An abstract class in Python is a class that cannot be instantiated directly and is meant to be inherited by other classes. It may contain abstract methods methods(with no implementation) that must be implemented in subclasses,ensuring a comman interface. It is useful for enforcing structure in a class hierarchy."
      ],
      "metadata": {
        "id": "FjesKDtDdKWI"
      }
    },
    {
      "cell_type": "markdown",
      "source": [
        "16.) What are the advantages of OOP?\n",
        "\n",
        "The advantages of OOP include modularity,reusability,flexibility,maintainability,easy real-world modeling,data security,and the ability to build software with clear,structured hierarchies.It makes development more manageable,robust,and adaptable to future changes."
      ],
      "metadata": {
        "id": "GGaMUT94eCtp"
      }
    },
    {
      "cell_type": "markdown",
      "source": [
        "17.) What is the difference between a class variable and an instance variable?\n",
        "\n",
        "Class variables are shared by all instances of a class, wheras instance variable are unique to each instance of the class.Class variables are used for attributes common to all instances,while instance variables store data specific to each instance."
      ],
      "metadata": {
        "id": "bJvd9AKRerOF"
      }
    },
    {
      "cell_type": "markdown",
      "source": [
        "18.) What is multiple inheritance in Python?\n",
        "\n",
        "It allows a class to inherit from more than one parent class,combining their attributes and methods.While it offers flexibility and reusability,it can also lead to complexities such as the \"Diamond Problem\",which Python handles through its method resolution order."
      ],
      "metadata": {
        "id": "j52r-BoOfaOc"
      }
    },
    {
      "cell_type": "markdown",
      "source": [
        "19.) Explain the purpose of \"__str__' and '__repr__\" methods in Python.\n",
        "\n",
        "__str__ : Defines how an object should be presented for end-users(for human-friendly output).\n",
        "__repr__ : Defines how an object should be presented for developers(more detailed and aimed at debugging or recreation of the object)."
      ],
      "metadata": {
        "id": "S9S7gSgMgF7c"
      }
    },
    {
      "cell_type": "markdown",
      "source": [
        "20.) What is the significance of the 'super()' function in Python?\n",
        "\n",
        "super() is used to call methods from the parent class,allowing a subclass to invoke overridden methods and retain functionality from the superclass.It is especially helpful in avoiding hardcoded class references and working with multiple inheritance,ensuring that the method resolution order is respected."
      ],
      "metadata": {
        "id": "2KybKx-9g5sn"
      }
    },
    {
      "cell_type": "markdown",
      "source": [
        "21.) What is the significance of the __del__ method in Python?\n",
        "\n",
        "The __del__ method in python is a destructor method that gets called when an object is about to be destroyed.It is useful for cleaning up resources like closing files or network connection,but its behaviour can be unpredictable because Python's garbage collection is not deterministic.In most cases,using explicit resource management(such as context managers)is a better approach than relying on __del__ ."
      ],
      "metadata": {
        "id": "B6t1SOOjhv7b"
      }
    },
    {
      "cell_type": "markdown",
      "source": [
        "22.) What is the difference between @staticmethod and @classmethod in Python?\n",
        "\n",
        "@staticmethod : A method that doesn't interact with the class or instance.It is for utility functions.\n",
        "@classmethod : A method that interacts with the class and can modify class-level data.It takes a cls parameter to refer to the class itself."
      ],
      "metadata": {
        "id": "3dct70bPi1iV"
      }
    },
    {
      "cell_type": "markdown",
      "source": [
        "23.) How does polymorphism work in Python with inheritance?\n",
        "\n",
        "It works with inheritance by allowing method overriding,where a subclass can provide its own implementation of a method that is defined in the parent class.When an object of a subclass is invoked, the appropriate overriddef method from the subclass is called.This provides flexibility to treat objects of different classes in the same way while allowing for different behaviours."
      ],
      "metadata": {
        "id": "yoLn9Hirj5u0"
      }
    },
    {
      "cell_type": "markdown",
      "source": [
        "24.) What is method chaining in Python OOP?\n",
        "\n",
        "It allows you to call multiple methods in a single statement by ensuring that each method in the chain returns the object itself.This technique makes code more compact and readable while allowing a sequence of operations on the same object."
      ],
      "metadata": {
        "id": "VvBzuMWZk2c1"
      }
    },
    {
      "cell_type": "markdown",
      "source": [
        "25.) What is the purpose of the __call__ method in Python?\n",
        "\n",
        "The __call__ method in Python allows instances of a class to be called as if they were functions.It's useful for situations where you want an object to behave like a callable and may need to keep track of state or execute specific behaviour when invoked."
      ],
      "metadata": {
        "id": "jJ5tNB1flD1U"
      }
    },
    {
      "cell_type": "markdown",
      "source": [
        "Practical Questions"
      ],
      "metadata": {
        "id": "1i2HcGsqmT5F"
      }
    },
    {
      "cell_type": "markdown",
      "source": [
        "1.) Create a parent class Animal with a method speak() that prints a generic message.Create a child class Dog that overrides the speak() method to print \"Bark!\"."
      ],
      "metadata": {
        "id": "KmHsnJF3maDT"
      }
    },
    {
      "cell_type": "code",
      "source": [
        "class Animal:\n",
        "  def speak(self):\n",
        "    print(\"This is a generic animal sound.\")\n",
        "\n",
        "class Dod(Animal):\n",
        "  def speak(self):\n",
        "    print(\"Bark!\")\n",
        "\n",
        "if __name__ == \"__main__\":\n",
        "  animal = Animal()\n",
        "  animal.speak()\n",
        "\n",
        "  dog = Dod()\n",
        "  dog.speak()"
      ],
      "metadata": {
        "colab": {
          "base_uri": "https://localhost:8080/"
        },
        "id": "nNLVEYAupuK9",
        "outputId": "b8dbbd97-d90c-44ca-eff4-03c03ea96674"
      },
      "execution_count": 1,
      "outputs": [
        {
          "output_type": "stream",
          "name": "stdout",
          "text": [
            "This is a generic animal sound.\n",
            "Bark!\n"
          ]
        }
      ]
    },
    {
      "cell_type": "markdown",
      "source": [
        "2.) Write a program to create an abstract class shape with a method area().Derive classes Circle and Rectangle from it and implement the area() method in both."
      ],
      "metadata": {
        "id": "I3Fh674lqGWC"
      }
    },
    {
      "cell_type": "code",
      "source": [
        "from abc import ABC, abstractmethod\n",
        "import math\n",
        "\n",
        "class Shape(ABC):\n",
        "  @abstractmethod\n",
        "  def area(self):\n",
        "    pass\n",
        "\n",
        "class Circle(Shape):\n",
        "  def __init__(self, radius):\n",
        "    self.radius = radius\n",
        "  def area(self):\n",
        "    return math.pi * self.radius ** 2\n",
        "\n",
        "class Rectangle(Shape):\n",
        "  def __init__(self, length, width):\n",
        "    self.length = length\n",
        "    self.width = width\n",
        "  def area(self):\n",
        "    return self.length * self.width\n",
        "\n",
        "if __name__ == \"__main__\":\n",
        "  circle = Circle(5)\n",
        "  print(\"Circle Area:\", circle.area())\n",
        "\n",
        "  rectangle = Rectangle(4, 6)\n",
        "  print(\"Rectangle Area:\", rectangle.area())"
      ],
      "metadata": {
        "colab": {
          "base_uri": "https://localhost:8080/"
        },
        "id": "7DMjKi1yqZsQ",
        "outputId": "f4ccdf0a-a2cb-4381-923a-82260de316f0"
      },
      "execution_count": 2,
      "outputs": [
        {
          "output_type": "stream",
          "name": "stdout",
          "text": [
            "Circle Area: 78.53981633974483\n",
            "Rectangle Area: 24\n"
          ]
        }
      ]
    },
    {
      "cell_type": "markdown",
      "source": [
        "3.) Implement a multi-level inheritance scenario where a class Vehicle has an attribute type.Derive a class Car and further derive a class Electric that adds a battery attribute."
      ],
      "metadata": {
        "id": "ENkmqZTnrYMH"
      }
    },
    {
      "cell_type": "code",
      "source": [
        "class Vehicle:\n",
        "  def __init__(self, vehicle_type):\n",
        "    self.type = vehicle_type\n",
        "  def describe(self):\n",
        "    print(f\"This is a {self.type}.\")\n",
        "\n",
        "class Car(Vehicle):\n",
        "  def __init__ (self, vehicle_type,brand):\n",
        "    super().__init__(vehicle_type)\n",
        "    self.brand = brand\n",
        "  def describe(self):\n",
        "    super().describe()\n",
        "    print(f\"It is a car from {self.brand}.\")\n",
        "\n",
        "class Electric(Car):\n",
        "  def __init__(self, vehicle_type, brand, battery_capacity):\n",
        "    super().__init__(vehicle_type, brand)\n",
        "    self.battery_capacity = battery_capacity\n",
        "\n",
        "    def describe(self):\n",
        "      super().describe()\n",
        "      print(f\"It has a battery capacity of {self.battery_capacity} kWh.\")\n",
        "\n",
        "if __name__ == \"__main__\":\n",
        "  vehicle = Vehicle(\"Vehicle\")\n",
        "  vehicle.describe()\n",
        "\n",
        "  car = Car(\"Car\", \"Toyota\")\n",
        "  car.describe()\n",
        "\n",
        "  electric_car = Electric(\"Electric Car\", \"Tesla\", 100)\n",
        "  electric_car.describe()"
      ],
      "metadata": {
        "colab": {
          "base_uri": "https://localhost:8080/"
        },
        "id": "tXkh8RYQr2_S",
        "outputId": "00aa0ea0-dee3-4f3f-de43-07d7f667c167"
      },
      "execution_count": 3,
      "outputs": [
        {
          "output_type": "stream",
          "name": "stdout",
          "text": [
            "This is a Vehicle.\n",
            "This is a Car.\n",
            "It is a car from Toyota.\n",
            "This is a Electric Car.\n",
            "It is a car from Tesla.\n"
          ]
        }
      ]
    },
    {
      "cell_type": "markdown",
      "source": [
        " Q3 and Q4 are same."
      ],
      "metadata": {
        "id": "rKjm1qm3tpkP"
      }
    },
    {
      "cell_type": "markdown",
      "source": [
        "5.) Write a program to demonstrate encapsulation by creating a class BankAccount with private attributes balance and methods to deposit,withdraw,and check balance."
      ],
      "metadata": {
        "id": "m_Nafj10vtF9"
      }
    },
    {
      "cell_type": "code",
      "source": [
        "\n",
        "class BankAccount:\n",
        "  def __init__(self, initial_balance=0):\n",
        "    self._balance = initial_balance\n",
        "\n",
        "  def deposit(self, amount):\n",
        "    if amount > 0:\n",
        "      self.__balance += amount\n",
        "      print(f\"Deposited ${amount}. New balance: ${self.__balance:}\")\n",
        "    else:\n",
        "      print(\"Invalid deposit amount.\")\n",
        "\n",
        "  def withdraw(self, amount):\n",
        "    if 0 < amount <= self.__balance:\n",
        "      self.__balance -= amount\n",
        "      print(f\"Withdrew ${amount}. New balance: ${self.__balance:}\")\n",
        "    elif amount > self.__balance:\n",
        "      print(\"Insufficient funds.\")\n",
        "    else:\n",
        "      print(\"Invalid withdrawal amount or insufficient balance.\")\n",
        "\n",
        "  def check_balance(self):\n",
        "    print(f\"Current balance: ${self.__balance:}\")\n",
        "\n",
        "if __name__ == \"__main__\":\n",
        "  account = BankAccount(100)\n",
        "  print(account.check_balance())\n",
        "\n",
        "  account.deposit(50)\n",
        "  print(account.check_balance())\n",
        "\n",
        "  account.withdraw(30)\n",
        "  print(account.check_balance())\n",
        "\n",
        "  account.withdraw(200)\n",
        "  print(account.check_balance())"
      ],
      "metadata": {
        "id": "yr1pPvBRwWyE"
      },
      "execution_count": null,
      "outputs": []
    },
    {
      "cell_type": "markdown",
      "source": [
        "6.) Demonstrate runtime polymorphism using a method play() in a base class Instrument.Derive classes Guitar and Piano that implement their own version of play()."
      ],
      "metadata": {
        "id": "lPuR7DBvy08c"
      }
    },
    {
      "cell_type": "code",
      "source": [
        "class Instrument:\n",
        "  def play(self):\n",
        "    pass\n",
        "\n",
        "class Guitar(Instrument):\n",
        "  def play(self):\n",
        "    print(\"Playing a guitar sound.\")\n",
        "\n",
        "class Piano(Instrument):\n",
        "  def play(self):\n",
        "    print(\"Playing a piano sound.\")\n",
        "\n",
        "def play_instrument(instrument):\n",
        "  instrument.play()\n",
        "\n",
        "if __name__ == \"__main__\":\n",
        "  generic_instrument = Instrument()\n",
        "  guitar = Guitar()\n",
        "  piano = Piano()\n",
        "\n",
        "  play_instrument(generic_instrument)\n",
        "  play_instrument(guitar)\n",
        "  play_instrument(piano)"
      ],
      "metadata": {
        "colab": {
          "base_uri": "https://localhost:8080/"
        },
        "id": "Ztn9OBkcz6SU",
        "outputId": "bc3d3519-3170-450a-ca62-6fc11578af63"
      },
      "execution_count": 14,
      "outputs": [
        {
          "output_type": "stream",
          "name": "stdout",
          "text": [
            "Playing a guitar sound.\n",
            "Playing a piano sound.\n"
          ]
        }
      ]
    },
    {
      "cell_type": "markdown",
      "source": [
        "7.) Create a class MathOperations with a class method add)numbers() to add two numbers and a static method subtract_number() to subtract two numbers."
      ],
      "metadata": {
        "id": "UP5mPzmJ00_w"
      }
    },
    {
      "cell_type": "code",
      "source": [
        "class MathOperations:\n",
        "  @classmethod\n",
        "  def add_numbers(cls, a, b):\n",
        "    return a + b\n",
        "\n",
        "  @staticmethod\n",
        "  def subtract_numbers(a, b):\n",
        "    return a - b\n",
        "\n",
        "if __name__ == \"__main__\":\n",
        "\n",
        "  result_add = MathOperations.add_numbers(10, 5)\n",
        "  print(f\"Addition: {result_add}\")\n",
        "\n",
        "  result_subtract = MathOperations.subtract_numbers(10, 5)\n",
        "  print(f\"Subtraction: {result_subtract}\")"
      ],
      "metadata": {
        "colab": {
          "base_uri": "https://localhost:8080/"
        },
        "id": "Y0eCCScB3Z-2",
        "outputId": "8185a526-bf8d-4d66-d037-0eca1c49f000"
      },
      "execution_count": 15,
      "outputs": [
        {
          "output_type": "stream",
          "name": "stdout",
          "text": [
            "Addition: 15\n",
            "Subtraction: 5\n"
          ]
        }
      ]
    },
    {
      "cell_type": "markdown",
      "source": [
        "8.) Implement a class Person with a class method to count the total number of persons created."
      ],
      "metadata": {
        "id": "yz3oUn5o4GiA"
      }
    },
    {
      "cell_type": "code",
      "source": [
        "class Person:\n",
        "\n",
        "  count = 0\n",
        "\n",
        "  def __init__(self,name):\n",
        "    self.name = name\n",
        "    Person.count += 1\n",
        "\n",
        "  @classmethod\n",
        "  def total_persons(cls):\n",
        "    return cls.count\n",
        "\n",
        "if __name__ == \"__main__\":\n",
        "  person1 = Person(\"Alice\")\n",
        "  person2 = Person(\"Bob\")\n",
        "  person3 = Person(\"Charlie\")\n",
        "\n",
        "  print(f\"Total persons created: {Person.total_persons()}\")"
      ],
      "metadata": {
        "colab": {
          "base_uri": "https://localhost:8080/"
        },
        "id": "0bbNV_Hn4R_m",
        "outputId": "9c17fa0c-e4ee-40d4-e7be-cb56d633726c"
      },
      "execution_count": 16,
      "outputs": [
        {
          "output_type": "stream",
          "name": "stdout",
          "text": [
            "Total persons created: 3\n"
          ]
        }
      ]
    },
    {
      "cell_type": "markdown",
      "source": [
        "9.) Write a class Fraction with attributes numerator and denominator. Override the str method to display the fraction as \"numerator/denominator\"."
      ],
      "metadata": {
        "id": "nittYMaw4qxe"
      }
    },
    {
      "cell_type": "code",
      "source": [
        "class Fraction:\n",
        "  def __init__(self, numerator, denominator):\n",
        "    self.numerator = numerator\n",
        "    self.denominator = denominator\n",
        "\n",
        "  def __str__(self):\n",
        "    return f\"{self.numerator}/{self.denominator}\"\n",
        "\n",
        "if __name__ == \"__main__\":\n",
        "  fraction = Fraction(3, 4)\n",
        "  print(fraction)"
      ],
      "metadata": {
        "colab": {
          "base_uri": "https://localhost:8080/"
        },
        "id": "PoJt6IRT5AYS",
        "outputId": "d3858fa3-d140-4531-f01d-2b5ee9cb3219"
      },
      "execution_count": 17,
      "outputs": [
        {
          "output_type": "stream",
          "name": "stdout",
          "text": [
            "3/4\n"
          ]
        }
      ]
    },
    {
      "cell_type": "markdown",
      "source": [
        "10.) Demonstrate operator overloading by creating a class Vector and overriding the add method to add two vectors."
      ],
      "metadata": {
        "id": "iV3rM6ua5W0v"
      }
    },
    {
      "cell_type": "code",
      "source": [
        "class Vector:\n",
        "  def __init__(self, x, y):\n",
        "    self.x = x\n",
        "    self.y = y\n",
        "\n",
        "  def __add__(self, other):\n",
        "    if isinstance(other,Vector):\n",
        "      return Vector(self.x + other.x, self.y + other.y)\n",
        "    raise TypeError(\"Operand must be of type vector\")\n",
        "\n",
        "  def __str__(self):\n",
        "    return f\"Vector ({self.x}, {self.y})\"\n",
        "\n",
        "if __name__ == \"__main__\":\n",
        "  vector1 = Vector(1, 2)\n",
        "  vector2 = Vector(3, 4)\n",
        "\n",
        "  result = vector1 + vector2\n",
        "  print(result)"
      ],
      "metadata": {
        "colab": {
          "base_uri": "https://localhost:8080/"
        },
        "id": "DOhaf4t15mXV",
        "outputId": "297589dc-102d-4b1b-a5ed-6bf78cc09400"
      },
      "execution_count": 19,
      "outputs": [
        {
          "output_type": "stream",
          "name": "stdout",
          "text": [
            "Vector (4, 6)\n"
          ]
        }
      ]
    },
    {
      "cell_type": "markdown",
      "source": [
        "11.) Create a class Person with attributes name and age. Add a method greet() that prints \"Hello,my name is{name}and I am {age} years old.\""
      ],
      "metadata": {
        "id": "pog0jHIb66Bi"
      }
    },
    {
      "cell_type": "code",
      "source": [
        "class Person:\n",
        "  def __init__(self, name, age):\n",
        "    self.name = name\n",
        "    self.age = age\n",
        "\n",
        "  def greet(self):\n",
        "    print(f\"Hello, my name is {self.name} and I am {self.age} years old.\")\n",
        "\n",
        "if __name__ == \"__main__\":\n",
        "  person = Person(\"Alice\",30)\n",
        "  person.greet()"
      ],
      "metadata": {
        "colab": {
          "base_uri": "https://localhost:8080/"
        },
        "id": "nNKl8VmW7tKy",
        "outputId": "253101e8-4012-4b21-e8aa-2a085032a90e"
      },
      "execution_count": 21,
      "outputs": [
        {
          "output_type": "stream",
          "name": "stdout",
          "text": [
            "Hello, my name is Alice and I am 30 years old.\n"
          ]
        }
      ]
    },
    {
      "cell_type": "markdown",
      "source": [
        "12.) Implement a class Student with attributes name and grades.Create a method average_grade() to compute the average of the grades."
      ],
      "metadata": {
        "id": "HAik61ZU8cIg"
      }
    },
    {
      "cell_type": "code",
      "source": [
        "class student:\n",
        "  def __init__(self, name, grades):\n",
        "    self.name = name\n",
        "    self.grades = grades\n",
        "\n",
        "  def average_grade(self):\n",
        "    if len(self.grades) == 0:\n",
        "      return sum(self.grades) / len(self.grades)\n",
        "    return 0\n",
        "\n",
        "if __name__ == \"__main__\":\n",
        "  student1 = student(\"Alice\",[85,90,88,92])\n",
        "  print(f\"{student1.name}'s average grade:{student1.average_grade():.2f}\")\n",
        "\n",
        "  student2 = student(\"Bob\",[78,82,80,74])\n",
        "  print(f\"{student2.name}'s average grade:{student2.average_grade():.2f}\")\n",
        "\n",
        "  student3 = student(\"Charlie\",[45,67,45,34])\n",
        "  print(f\"{student3.name}'s average grade:{student3.average_grade():.2f}\")"
      ],
      "metadata": {
        "colab": {
          "base_uri": "https://localhost:8080/"
        },
        "id": "PTt13oHO8t-r",
        "outputId": "41286a9b-80bb-4da9-e293-ccf76e195ecd"
      },
      "execution_count": 24,
      "outputs": [
        {
          "output_type": "stream",
          "name": "stdout",
          "text": [
            "Alice's average grade:0.00\n",
            "Bob's average grade:0.00\n",
            "Charlie's average grade:0.00\n"
          ]
        }
      ]
    },
    {
      "cell_type": "markdown",
      "source": [
        "13.) Create a class Rectangle with methods set_dimensions() to set the dimensions and area() to calculate the area."
      ],
      "metadata": {
        "id": "qfC1nCiP-Hz6"
      }
    },
    {
      "cell_type": "code",
      "source": [
        "class Rectangle:\n",
        "  def __init__(self, length, width):\n",
        "    self.length = length\n",
        "    self.width = width\n",
        "\n",
        "  def set_dimensions(self, length, width):\n",
        "    self.length = length\n",
        "    self.width = width\n",
        "\n",
        "  def area(self):\n",
        "    return self.length * self.width\n",
        "\n",
        "if __name__ == \"__main__\":\n",
        "  rectangle = Rectangle(5, 10)\n",
        "  print(f\"Area: {rectangle.area()}\")"
      ],
      "metadata": {
        "colab": {
          "base_uri": "https://localhost:8080/"
        },
        "id": "jPKr6sLB-VTf",
        "outputId": "7576089c-0eb7-483d-cb27-059d0badfbec"
      },
      "execution_count": 25,
      "outputs": [
        {
          "output_type": "stream",
          "name": "stdout",
          "text": [
            "Area: 50\n"
          ]
        }
      ]
    },
    {
      "cell_type": "markdown",
      "source": [
        "14.) Create a class Employee with a method calculate_salary() that computes the salary based on hours worked and hourly rate. Create a derived class Manager that adds a bonus to the salary."
      ],
      "metadata": {
        "id": "CMTTJCeo-lST"
      }
    },
    {
      "cell_type": "code",
      "source": [
        "class Employee:\n",
        "  def __init__(self, name, hours_worked, hourly_rate):\n",
        "    self.name = name\n",
        "    self.hours_worked = hours_worked\n",
        "    self.hourly_rate = hourly_rate\n",
        "\n",
        "  def calculate_salary(self):\n",
        "    return self.hours_worked * self.hourly_rate\n",
        "\n",
        "class Manager(Employee):\n",
        "  def __init__(self, name, hours_worked, hourly_rate, bonus):\n",
        "    super().__init__(name, hours_worked, hourly_rate)\n",
        "    self.bonus = bonus\n",
        "\n",
        "  def calculate_salary(self):\n",
        "    base_salary = super().calculate_salary()\n",
        "    return base_salary + self.bonus\n",
        "\n",
        "if __name__ == \"__main__\":\n",
        "  employee = Employee(\"Alice\", 40, 15)\n",
        "  print(f\"{employee.name}'s salary: ${employee.calculate_salary():.2f}\")"
      ],
      "metadata": {
        "colab": {
          "base_uri": "https://localhost:8080/"
        },
        "id": "i2fZsxiI-5oR",
        "outputId": "aad9cee2-b499-427b-adb9-ca80421f9067"
      },
      "execution_count": 26,
      "outputs": [
        {
          "output_type": "stream",
          "name": "stdout",
          "text": [
            "Alice's salary: $600.00\n"
          ]
        }
      ]
    },
    {
      "cell_type": "markdown",
      "source": [
        "15.) Create a class Product with attributes name,price,and quantity.Implement a method total_price() that calculates the total price of the product."
      ],
      "metadata": {
        "id": "2B-911wZ_q2d"
      }
    },
    {
      "cell_type": "code",
      "source": [
        "class Product:\n",
        "  def __init__(self, name, price, quantity):\n",
        "    self.name = name\n",
        "    self.price = price\n",
        "    self.quantity = quantity\n",
        "\n",
        "  def total_price(self):\n",
        "    return self.price * self.quantity\n",
        "\n",
        "if __name__ == \"__main__\":\n",
        "  product = Product(\"Laptop\", 999.99, 2)\n",
        "  print(f\"Total price: ${product.total_price():.2f}\")"
      ],
      "metadata": {
        "colab": {
          "base_uri": "https://localhost:8080/"
        },
        "id": "iJUI3t0r_8Tt",
        "outputId": "45505db1-1094-4244-c603-18b08ce318b1"
      },
      "execution_count": 28,
      "outputs": [
        {
          "output_type": "stream",
          "name": "stdout",
          "text": [
            "Total price: $1999.98\n"
          ]
        }
      ]
    },
    {
      "cell_type": "markdown",
      "source": [
        "16.) Create a class Animal with an abstract method sound(). Create two derived classes Cow and Sheep that implement the the sound() method."
      ],
      "metadata": {
        "id": "BsFibz6EAQ7K"
      }
    },
    {
      "cell_type": "code",
      "source": [
        "from abc import ABC, abstractclassmethod\n",
        "\n",
        "class Animal(ABC):\n",
        "  @abstractmethod\n",
        "  def sound(self):\n",
        "    pass\n",
        "\n",
        "class Cow(Animal):\n",
        "  def sound(self):\n",
        "    print(\"Moo!\")\n",
        "\n",
        "class Sheep(Animal):\n",
        "  def sound(self):\n",
        "    print(\"Baa!\")\n",
        "\n",
        "if __name__ == \"__main__\":\n",
        "  cow = Cow()\n",
        "  cow.sound()\n",
        "\n",
        "  sheep = Sheep()\n",
        "  sheep.sound()\n",
        "\n",
        "  print(f\"Cow sound: {cow.sound()}\")\n",
        "  print(f\"Sheep sound: {sheep.sound()}\")"
      ],
      "metadata": {
        "colab": {
          "base_uri": "https://localhost:8080/"
        },
        "id": "ceUYtAPuAmic",
        "outputId": "461f1444-e195-42f6-a576-0f8fb49b2554"
      },
      "execution_count": 29,
      "outputs": [
        {
          "output_type": "stream",
          "name": "stdout",
          "text": [
            "Moo!\n",
            "Baa!\n",
            "Moo!\n",
            "Cow sound: None\n",
            "Baa!\n",
            "Sheep sound: None\n"
          ]
        }
      ]
    },
    {
      "cell_type": "markdown",
      "source": [
        "17.) Create a class Book with attributes title,author,and year_published.Add a method get_book_info() that returns a formatted string with the book's details."
      ],
      "metadata": {
        "id": "NHZuuiMuBfyX"
      }
    },
    {
      "cell_type": "code",
      "source": [
        "class Book:\n",
        "  def __init__(self, title, author, year_published):\n",
        "    self.title = title\n",
        "    self.author = author\n",
        "    self.year_published = year_published\n",
        "\n",
        "  def get_book_info(self):\n",
        "    return f\" '{self.title}' by {self.author} ({self.year_published})\"\n",
        "\n",
        "if __name__ == \"__main__\":\n",
        "  book = Book(\"The Great Gatsby\", \"F. Scott Fitzgerald\", 1925)\n",
        "  print(book.get_book_info())"
      ],
      "metadata": {
        "colab": {
          "base_uri": "https://localhost:8080/"
        },
        "id": "4YlhKuusBysF",
        "outputId": "8bdf081e-ea9f-4cf0-dcdf-a8f624f4cf3e"
      },
      "execution_count": 30,
      "outputs": [
        {
          "output_type": "stream",
          "name": "stdout",
          "text": [
            " 'The Great Gatsby' by F. Scott Fitzgerald (1925)\n"
          ]
        }
      ]
    },
    {
      "cell_type": "markdown",
      "source": [
        "18.) Create a class House with attributes address and price. Create a derived class Mansion that adds an attribute number_of_rooms."
      ],
      "metadata": {
        "id": "CHs_PYwTCQ4l"
      }
    },
    {
      "cell_type": "code",
      "source": [
        "class House:\n",
        "  def __init__(self, address, price):\n",
        "    self.address = address\n",
        "    self.price = price\n",
        "\n",
        "  def get_house_info(self):\n",
        "    return f\"Address: {self.address}, Price: ${self.price}\"\n",
        "\n",
        "class Mansion(House):\n",
        "  def __init__(self, address, price, number_of_rooms):\n",
        "    super().__init__(address, price)\n",
        "    self.number_of_rooms = number_of_rooms\n",
        "\n",
        "  def get_mansion_info(self):\n",
        "    return f\"{super().get_house_info()}, Number of rooms: {self.number_of_rooms}\"\n",
        "\n",
        "if __name__ == \"__main__\":\n",
        "  house = House(\"123 Oak St\",250000)\n",
        "  print(house.get_house_info())\n",
        "\n",
        "  mansion = Mansion(\"456 Elm St\", 350000, 5)\n",
        "  print(mansion.get_mansion_info())"
      ],
      "metadata": {
        "colab": {
          "base_uri": "https://localhost:8080/"
        },
        "id": "qgxNWfYOCgGY",
        "outputId": "3261407e-295b-439d-c751-bf9bf338d37a"
      },
      "execution_count": 31,
      "outputs": [
        {
          "output_type": "stream",
          "name": "stdout",
          "text": [
            "Address: 123 Oak St, Price: $250000\n",
            "Address: 456 Elm St, Price: $350000, Number of rooms: 5\n"
          ]
        }
      ]
    }
  ]
}